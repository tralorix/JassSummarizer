{
 "cells": [
  {
   "cell_type": "markdown",
   "metadata": {},
   "source": [
    "# Data Preparation 01\n",
    "\n",
    "We need many images, representing each class of card. To achive this Goal I'm creating a movie of each card. Each movie is around 10\" and during this time the card moves in front of the camera. The result will be a [MP4 File](https://de.wikipedia.org/wiki/MP4).\n",
    "\n",
    "## How has the movie been taken\n",
    "I made 2 runs on capturing movies with my Samsung S8. Please note that the card itself is using a photo glue in the back to be fixed on a geo triangle or paper stripe.\n",
    "1. The first run was on 7.1 and the setup was not perfect. Everything went well. But it was a bad decision to have a wooden table as background. To improve it I decided later to run another scan.  \n",
    "![Data Scan I](./images/diverse/datascan_i_kl.jpg)\n",
    "2. The second run was made on the 22.1. Similar to the handy scan it was taken in front of the webcam. I used a special jupyter notebook for this type of scan. To switch to another card, I had to press space as it was defined by me in the jupyter notebook.  \n",
    "![Data Scan II](./images/diverse/webbcamscan_ii_kl.jpg)\n",
    "3. The third run was on 25.1. At this time I used a black background. I also payed attention to have better angle to the lying card.  \n",
    "![Data Scan III](./images/diverse/datascan_iii_kl.jpg)\n",
    "\n"
   ]
  },
  {
   "cell_type": "markdown",
   "metadata": {},
   "source": [
    "## Dataextraction for Datascan I & III (Movie related)\n",
    "\n",
    "The next cell extracts all frames within a Movie into JPG images. Because of the big resolution of the movie (Full HD), we are going to scale the image by 40%. The generated JPG are stored in the filesystem.  \n",
    "\n",
    "> Please Note: that we don't have to do anything on DataScan II, because they are already in the JPG format from the webcam capture.\n"
   ]
  },
  {
   "cell_type": "code",
   "execution_count": 1,
   "metadata": {},
   "outputs": [],
   "source": [
    "import JassSummarizer as js\n",
    "from IPython.core.display import display, HTML\n",
    "import numpy as np\n",
    "import pandas as pd\n",
    "import shutil\n",
    "import os\n",
    "import cv2                                                              # computer vision python library see README.md dependencies\n",
    "                                                                        \n",
    "# define multiple scan input paths\n",
    "pathList= [r\".\\images\\02_data_preparation\\datascan_i\",r\".\\images\\02_data_preparation\\datascan_iii\"]\n",
    "OUTPUTPATH= r\".\\images\\02_data_preparation\\train_\"\n",
    "# iterate trough pathList\n",
    "for path in pathList:\n",
    "    setName=path.split(\"\\\\\")[-1]\n",
    "    outputPath=OUTPUTPATH+setName\n",
    "    \n",
    "    # generate a fileList of desired mp4 files\n",
    "    fileList = [os.path.join(dp, f) for dp, dn, filenames in os.walk(path) for f in filenames if os.path.splitext(f)[1] == '.mp4']\n",
    "\n",
    "    # check availability of outputpath .. create if necessary\n",
    "    if not os.path.exists(outputPath):\n",
    "        os.mkdir(outputPath)\n",
    "\n",
    "    if not os.path.exists(r\".\\images\\02_data_preparation\\train_datascan_iii\\A0\\A0_00000.jpg\"):\n",
    "        # iterate trough all movies\n",
    "        for movie in fileList:\n",
    "            cardId=movie.replace(path,\"\")[1:3]                                  # store the cardId from mvoviename the first 2 chars\n",
    "            outputPathCard=os.path.join(outputPath,cardId)                      # generate outputPath per cardId\n",
    "            if not os.path.exists(outputPathCard):                              # check if already there\n",
    "                os.mkdir(outputPathCard)                                        # create if missing\n",
    "\n",
    "            vidcap = cv2.VideoCapture(movie)                                    # open videostream\n",
    "            success,image = vidcap.read()                                       # read first frame\n",
    "            count = 0\n",
    "            while success:\n",
    "              outFile=os.path.join(outputPathCard,cardId+\"_\"+str(count).zfill(5)+\".jpg\")\n",
    "              cv2.imwrite(outFile, js.scaleImage(image,40))                     # save frame as JPEG file with scaleFactor 40%\n",
    "              success,image = vidcap.read()                                     # red next frame      \n",
    "              count += 1\n",
    "            #print(f\"{cardId} {count}\")                                          # print frame cout per cardId\n",
    "            vidcap.release()                                                    # release videostream    "
   ]
  },
  {
   "cell_type": "markdown",
   "metadata": {},
   "source": [
    "### Datascan reorganisation Datascan II (Webcam Capturing)\n",
    "To put the datascan II to the same layout as the datascan I & III, we need to copy them to the appropriate folder and create the cardId folder structure."
   ]
  },
  {
   "cell_type": "code",
   "execution_count": 2,
   "metadata": {},
   "outputs": [],
   "source": [
    "path=r\".\\images\\02_data_preparation\\datascan_ii\"\n",
    "setName=path.split(\"\\\\\")[-1]\n",
    "outputPath=OUTPUTPATH+setName\n",
    "# check availability of outputpath .. create if necessary\n",
    "if not os.path.exists(outputPath):\n",
    "    os.mkdir(outputPath)\n",
    "\n",
    "if not os.path.exists(r\".\\images\\02_data_preparation\\train_datascan_ii\\D8\\D8_000033.jpg\"):\n",
    "    \n",
    "    # generate a fileList of desired jpg files\n",
    "    fileList = [os.path.join(dp, f) for dp, dn, filenames in os.walk(path) for f in filenames if os.path.splitext(f)[1] == '.jpg']\n",
    "\n",
    "    for file in fileList:\n",
    "        cardId=file.replace(path,\"\")[1:3]                                           # store the cardId from mvoviename the first 2 chars \n",
    "        outputPathCard=os.path.join(outputPath,cardId)                              # generate outputPath per cardId\n",
    "        if not os.path.exists(outputPathCard):                                      # check if already there\n",
    "            os.mkdir(outputPathCard)                                                # create if missing\n",
    "        shutil.copyfile(file,os.path.join(outputPathCard,file.split(\"\\\\\")[-1]))\n",
    "    "
   ]
  },
  {
   "cell_type": "markdown",
   "metadata": {},
   "source": [
    "### Statistics\n",
    "The next cell shows some statistical information about the data.\n",
    "* It shows for each scan a table Matrix with the count of Images. The lowest value is highlighted in yellow\n",
    "* It shows a histogram for each datascan and its distribution of card type\n"
   ]
  },
  {
   "cell_type": "code",
   "execution_count": 3,
   "metadata": {},
   "outputs": [
    {
     "data": {
      "text/html": [
       "<h3>Dataset I</h3>"
      ],
      "text/plain": [
       "<IPython.core.display.HTML object>"
      ]
     },
     "metadata": {},
     "output_type": "display_data"
    },
    {
     "data": {
      "text/html": [
       "<style  type=\"text/css\" >\n",
       "    #T_b4cd13d4_8be1_11eb_bf88_046c592bfafbrow3_col3 {\n",
       "            background-color:  yellow;\n",
       "        }</style><table id=\"T_b4cd13d4_8be1_11eb_bf88_046c592bfafb\" ><thead>    <tr>        <th class=\"blank level0\" ></th>        <th class=\"col_heading level0 col0\" >Eicheln</th>        <th class=\"col_heading level0 col1\" >Schellen</th>        <th class=\"col_heading level0 col2\" >Schilten</th>        <th class=\"col_heading level0 col3\" >Rosen</th>    </tr>    <tr>        <th class=\"index_name level0\" >type</th>        <th class=\"blank\" ></th>        <th class=\"blank\" ></th>        <th class=\"blank\" ></th>        <th class=\"blank\" ></th>    </tr></thead><tbody>\n",
       "                <tr>\n",
       "                        <th id=\"T_b4cd13d4_8be1_11eb_bf88_046c592bfafblevel0_row0\" class=\"row_heading level0 row0\" >N6</th>\n",
       "                        <td id=\"T_b4cd13d4_8be1_11eb_bf88_046c592bfafbrow0_col0\" class=\"data row0 col0\" >145</td>\n",
       "                        <td id=\"T_b4cd13d4_8be1_11eb_bf88_046c592bfafbrow0_col1\" class=\"data row0 col1\" >257</td>\n",
       "                        <td id=\"T_b4cd13d4_8be1_11eb_bf88_046c592bfafbrow0_col2\" class=\"data row0 col2\" >152</td>\n",
       "                        <td id=\"T_b4cd13d4_8be1_11eb_bf88_046c592bfafbrow0_col3\" class=\"data row0 col3\" >112</td>\n",
       "            </tr>\n",
       "            <tr>\n",
       "                        <th id=\"T_b4cd13d4_8be1_11eb_bf88_046c592bfafblevel0_row1\" class=\"row_heading level0 row1\" >N7</th>\n",
       "                        <td id=\"T_b4cd13d4_8be1_11eb_bf88_046c592bfafbrow1_col0\" class=\"data row1 col0\" >123</td>\n",
       "                        <td id=\"T_b4cd13d4_8be1_11eb_bf88_046c592bfafbrow1_col1\" class=\"data row1 col1\" >191</td>\n",
       "                        <td id=\"T_b4cd13d4_8be1_11eb_bf88_046c592bfafbrow1_col2\" class=\"data row1 col2\" >196</td>\n",
       "                        <td id=\"T_b4cd13d4_8be1_11eb_bf88_046c592bfafbrow1_col3\" class=\"data row1 col3\" >71</td>\n",
       "            </tr>\n",
       "            <tr>\n",
       "                        <th id=\"T_b4cd13d4_8be1_11eb_bf88_046c592bfafblevel0_row2\" class=\"row_heading level0 row2\" >N8</th>\n",
       "                        <td id=\"T_b4cd13d4_8be1_11eb_bf88_046c592bfafbrow2_col0\" class=\"data row2 col0\" >138</td>\n",
       "                        <td id=\"T_b4cd13d4_8be1_11eb_bf88_046c592bfafbrow2_col1\" class=\"data row2 col1\" >211</td>\n",
       "                        <td id=\"T_b4cd13d4_8be1_11eb_bf88_046c592bfafbrow2_col2\" class=\"data row2 col2\" >174</td>\n",
       "                        <td id=\"T_b4cd13d4_8be1_11eb_bf88_046c592bfafbrow2_col3\" class=\"data row2 col3\" >89</td>\n",
       "            </tr>\n",
       "            <tr>\n",
       "                        <th id=\"T_b4cd13d4_8be1_11eb_bf88_046c592bfafblevel0_row3\" class=\"row_heading level0 row3\" >N9</th>\n",
       "                        <td id=\"T_b4cd13d4_8be1_11eb_bf88_046c592bfafbrow3_col0\" class=\"data row3 col0\" >171</td>\n",
       "                        <td id=\"T_b4cd13d4_8be1_11eb_bf88_046c592bfafbrow3_col1\" class=\"data row3 col1\" >159</td>\n",
       "                        <td id=\"T_b4cd13d4_8be1_11eb_bf88_046c592bfafbrow3_col2\" class=\"data row3 col2\" >207</td>\n",
       "                        <td id=\"T_b4cd13d4_8be1_11eb_bf88_046c592bfafbrow3_col3\" class=\"data row3 col3\" >66</td>\n",
       "            </tr>\n",
       "            <tr>\n",
       "                        <th id=\"T_b4cd13d4_8be1_11eb_bf88_046c592bfafblevel0_row4\" class=\"row_heading level0 row4\" >Banner</th>\n",
       "                        <td id=\"T_b4cd13d4_8be1_11eb_bf88_046c592bfafbrow4_col0\" class=\"data row4 col0\" >162</td>\n",
       "                        <td id=\"T_b4cd13d4_8be1_11eb_bf88_046c592bfafbrow4_col1\" class=\"data row4 col1\" >186</td>\n",
       "                        <td id=\"T_b4cd13d4_8be1_11eb_bf88_046c592bfafbrow4_col2\" class=\"data row4 col2\" >231</td>\n",
       "                        <td id=\"T_b4cd13d4_8be1_11eb_bf88_046c592bfafbrow4_col3\" class=\"data row4 col3\" >75</td>\n",
       "            </tr>\n",
       "            <tr>\n",
       "                        <th id=\"T_b4cd13d4_8be1_11eb_bf88_046c592bfafblevel0_row5\" class=\"row_heading level0 row5\" >Bauer</th>\n",
       "                        <td id=\"T_b4cd13d4_8be1_11eb_bf88_046c592bfafbrow5_col0\" class=\"data row5 col0\" >162</td>\n",
       "                        <td id=\"T_b4cd13d4_8be1_11eb_bf88_046c592bfafbrow5_col1\" class=\"data row5 col1\" >218</td>\n",
       "                        <td id=\"T_b4cd13d4_8be1_11eb_bf88_046c592bfafbrow5_col2\" class=\"data row5 col2\" >185</td>\n",
       "                        <td id=\"T_b4cd13d4_8be1_11eb_bf88_046c592bfafbrow5_col3\" class=\"data row5 col3\" >79</td>\n",
       "            </tr>\n",
       "            <tr>\n",
       "                        <th id=\"T_b4cd13d4_8be1_11eb_bf88_046c592bfafblevel0_row6\" class=\"row_heading level0 row6\" >Ober</th>\n",
       "                        <td id=\"T_b4cd13d4_8be1_11eb_bf88_046c592bfafbrow6_col0\" class=\"data row6 col0\" >117</td>\n",
       "                        <td id=\"T_b4cd13d4_8be1_11eb_bf88_046c592bfafbrow6_col1\" class=\"data row6 col1\" >188</td>\n",
       "                        <td id=\"T_b4cd13d4_8be1_11eb_bf88_046c592bfafbrow6_col2\" class=\"data row6 col2\" >192</td>\n",
       "                        <td id=\"T_b4cd13d4_8be1_11eb_bf88_046c592bfafbrow6_col3\" class=\"data row6 col3\" >115</td>\n",
       "            </tr>\n",
       "            <tr>\n",
       "                        <th id=\"T_b4cd13d4_8be1_11eb_bf88_046c592bfafblevel0_row7\" class=\"row_heading level0 row7\" >Koenig</th>\n",
       "                        <td id=\"T_b4cd13d4_8be1_11eb_bf88_046c592bfafbrow7_col0\" class=\"data row7 col0\" >148</td>\n",
       "                        <td id=\"T_b4cd13d4_8be1_11eb_bf88_046c592bfafbrow7_col1\" class=\"data row7 col1\" >186</td>\n",
       "                        <td id=\"T_b4cd13d4_8be1_11eb_bf88_046c592bfafbrow7_col2\" class=\"data row7 col2\" >159</td>\n",
       "                        <td id=\"T_b4cd13d4_8be1_11eb_bf88_046c592bfafbrow7_col3\" class=\"data row7 col3\" >99</td>\n",
       "            </tr>\n",
       "            <tr>\n",
       "                        <th id=\"T_b4cd13d4_8be1_11eb_bf88_046c592bfafblevel0_row8\" class=\"row_heading level0 row8\" >Ass</th>\n",
       "                        <td id=\"T_b4cd13d4_8be1_11eb_bf88_046c592bfafbrow8_col0\" class=\"data row8 col0\" >122</td>\n",
       "                        <td id=\"T_b4cd13d4_8be1_11eb_bf88_046c592bfafbrow8_col1\" class=\"data row8 col1\" >208</td>\n",
       "                        <td id=\"T_b4cd13d4_8be1_11eb_bf88_046c592bfafbrow8_col2\" class=\"data row8 col2\" >138</td>\n",
       "                        <td id=\"T_b4cd13d4_8be1_11eb_bf88_046c592bfafbrow8_col3\" class=\"data row8 col3\" >69</td>\n",
       "            </tr>\n",
       "    </tbody></table>"
      ],
      "text/plain": [
       "<pandas.io.formats.style.Styler at 0x24e36aad320>"
      ]
     },
     "metadata": {},
     "output_type": "display_data"
    },
    {
     "data": {
      "text/html": [
       "<h3>Dataset II</h3>"
      ],
      "text/plain": [
       "<IPython.core.display.HTML object>"
      ]
     },
     "metadata": {},
     "output_type": "display_data"
    },
    {
     "data": {
      "text/html": [
       "<style  type=\"text/css\" >\n",
       "    #T_b4dc36e6_8be1_11eb_ab5b_046c592bfafbrow1_col0 {\n",
       "            background-color:  yellow;\n",
       "        }</style><table id=\"T_b4dc36e6_8be1_11eb_ab5b_046c592bfafb\" ><thead>    <tr>        <th class=\"blank level0\" ></th>        <th class=\"col_heading level0 col0\" >Eicheln</th>        <th class=\"col_heading level0 col1\" >Schellen</th>        <th class=\"col_heading level0 col2\" >Schilten</th>        <th class=\"col_heading level0 col3\" >Rosen</th>    </tr>    <tr>        <th class=\"index_name level0\" >type</th>        <th class=\"blank\" ></th>        <th class=\"blank\" ></th>        <th class=\"blank\" ></th>        <th class=\"blank\" ></th>    </tr></thead><tbody>\n",
       "                <tr>\n",
       "                        <th id=\"T_b4dc36e6_8be1_11eb_ab5b_046c592bfafblevel0_row0\" class=\"row_heading level0 row0\" >N6</th>\n",
       "                        <td id=\"T_b4dc36e6_8be1_11eb_ab5b_046c592bfafbrow0_col0\" class=\"data row0 col0\" >26</td>\n",
       "                        <td id=\"T_b4dc36e6_8be1_11eb_ab5b_046c592bfafbrow0_col1\" class=\"data row0 col1\" >24</td>\n",
       "                        <td id=\"T_b4dc36e6_8be1_11eb_ab5b_046c592bfafbrow0_col2\" class=\"data row0 col2\" >39</td>\n",
       "                        <td id=\"T_b4dc36e6_8be1_11eb_ab5b_046c592bfafbrow0_col3\" class=\"data row0 col3\" >33</td>\n",
       "            </tr>\n",
       "            <tr>\n",
       "                        <th id=\"T_b4dc36e6_8be1_11eb_ab5b_046c592bfafblevel0_row1\" class=\"row_heading level0 row1\" >N7</th>\n",
       "                        <td id=\"T_b4dc36e6_8be1_11eb_ab5b_046c592bfafbrow1_col0\" class=\"data row1 col0\" >19</td>\n",
       "                        <td id=\"T_b4dc36e6_8be1_11eb_ab5b_046c592bfafbrow1_col1\" class=\"data row1 col1\" >23</td>\n",
       "                        <td id=\"T_b4dc36e6_8be1_11eb_ab5b_046c592bfafbrow1_col2\" class=\"data row1 col2\" >34</td>\n",
       "                        <td id=\"T_b4dc36e6_8be1_11eb_ab5b_046c592bfafbrow1_col3\" class=\"data row1 col3\" >30</td>\n",
       "            </tr>\n",
       "            <tr>\n",
       "                        <th id=\"T_b4dc36e6_8be1_11eb_ab5b_046c592bfafblevel0_row2\" class=\"row_heading level0 row2\" >N8</th>\n",
       "                        <td id=\"T_b4dc36e6_8be1_11eb_ab5b_046c592bfafbrow2_col0\" class=\"data row2 col0\" >20</td>\n",
       "                        <td id=\"T_b4dc36e6_8be1_11eb_ab5b_046c592bfafbrow2_col1\" class=\"data row2 col1\" >29</td>\n",
       "                        <td id=\"T_b4dc36e6_8be1_11eb_ab5b_046c592bfafbrow2_col2\" class=\"data row2 col2\" >28</td>\n",
       "                        <td id=\"T_b4dc36e6_8be1_11eb_ab5b_046c592bfafbrow2_col3\" class=\"data row2 col3\" >32</td>\n",
       "            </tr>\n",
       "            <tr>\n",
       "                        <th id=\"T_b4dc36e6_8be1_11eb_ab5b_046c592bfafblevel0_row3\" class=\"row_heading level0 row3\" >N9</th>\n",
       "                        <td id=\"T_b4dc36e6_8be1_11eb_ab5b_046c592bfafbrow3_col0\" class=\"data row3 col0\" >32</td>\n",
       "                        <td id=\"T_b4dc36e6_8be1_11eb_ab5b_046c592bfafbrow3_col1\" class=\"data row3 col1\" >30</td>\n",
       "                        <td id=\"T_b4dc36e6_8be1_11eb_ab5b_046c592bfafbrow3_col2\" class=\"data row3 col2\" >34</td>\n",
       "                        <td id=\"T_b4dc36e6_8be1_11eb_ab5b_046c592bfafbrow3_col3\" class=\"data row3 col3\" >30</td>\n",
       "            </tr>\n",
       "            <tr>\n",
       "                        <th id=\"T_b4dc36e6_8be1_11eb_ab5b_046c592bfafblevel0_row4\" class=\"row_heading level0 row4\" >Banner</th>\n",
       "                        <td id=\"T_b4dc36e6_8be1_11eb_ab5b_046c592bfafbrow4_col0\" class=\"data row4 col0\" >34</td>\n",
       "                        <td id=\"T_b4dc36e6_8be1_11eb_ab5b_046c592bfafbrow4_col1\" class=\"data row4 col1\" >31</td>\n",
       "                        <td id=\"T_b4dc36e6_8be1_11eb_ab5b_046c592bfafbrow4_col2\" class=\"data row4 col2\" >31</td>\n",
       "                        <td id=\"T_b4dc36e6_8be1_11eb_ab5b_046c592bfafbrow4_col3\" class=\"data row4 col3\" >30</td>\n",
       "            </tr>\n",
       "            <tr>\n",
       "                        <th id=\"T_b4dc36e6_8be1_11eb_ab5b_046c592bfafblevel0_row5\" class=\"row_heading level0 row5\" >Bauer</th>\n",
       "                        <td id=\"T_b4dc36e6_8be1_11eb_ab5b_046c592bfafbrow5_col0\" class=\"data row5 col0\" >35</td>\n",
       "                        <td id=\"T_b4dc36e6_8be1_11eb_ab5b_046c592bfafbrow5_col1\" class=\"data row5 col1\" >32</td>\n",
       "                        <td id=\"T_b4dc36e6_8be1_11eb_ab5b_046c592bfafbrow5_col2\" class=\"data row5 col2\" >36</td>\n",
       "                        <td id=\"T_b4dc36e6_8be1_11eb_ab5b_046c592bfafbrow5_col3\" class=\"data row5 col3\" >25</td>\n",
       "            </tr>\n",
       "            <tr>\n",
       "                        <th id=\"T_b4dc36e6_8be1_11eb_ab5b_046c592bfafblevel0_row6\" class=\"row_heading level0 row6\" >Ober</th>\n",
       "                        <td id=\"T_b4dc36e6_8be1_11eb_ab5b_046c592bfafbrow6_col0\" class=\"data row6 col0\" >37</td>\n",
       "                        <td id=\"T_b4dc36e6_8be1_11eb_ab5b_046c592bfafbrow6_col1\" class=\"data row6 col1\" >35</td>\n",
       "                        <td id=\"T_b4dc36e6_8be1_11eb_ab5b_046c592bfafbrow6_col2\" class=\"data row6 col2\" >44</td>\n",
       "                        <td id=\"T_b4dc36e6_8be1_11eb_ab5b_046c592bfafbrow6_col3\" class=\"data row6 col3\" >39</td>\n",
       "            </tr>\n",
       "            <tr>\n",
       "                        <th id=\"T_b4dc36e6_8be1_11eb_ab5b_046c592bfafblevel0_row7\" class=\"row_heading level0 row7\" >Koenig</th>\n",
       "                        <td id=\"T_b4dc36e6_8be1_11eb_ab5b_046c592bfafbrow7_col0\" class=\"data row7 col0\" >32</td>\n",
       "                        <td id=\"T_b4dc36e6_8be1_11eb_ab5b_046c592bfafbrow7_col1\" class=\"data row7 col1\" >36</td>\n",
       "                        <td id=\"T_b4dc36e6_8be1_11eb_ab5b_046c592bfafbrow7_col2\" class=\"data row7 col2\" >41</td>\n",
       "                        <td id=\"T_b4dc36e6_8be1_11eb_ab5b_046c592bfafbrow7_col3\" class=\"data row7 col3\" >35</td>\n",
       "            </tr>\n",
       "            <tr>\n",
       "                        <th id=\"T_b4dc36e6_8be1_11eb_ab5b_046c592bfafblevel0_row8\" class=\"row_heading level0 row8\" >Ass</th>\n",
       "                        <td id=\"T_b4dc36e6_8be1_11eb_ab5b_046c592bfafbrow8_col0\" class=\"data row8 col0\" >26</td>\n",
       "                        <td id=\"T_b4dc36e6_8be1_11eb_ab5b_046c592bfafbrow8_col1\" class=\"data row8 col1\" >38</td>\n",
       "                        <td id=\"T_b4dc36e6_8be1_11eb_ab5b_046c592bfafbrow8_col2\" class=\"data row8 col2\" >40</td>\n",
       "                        <td id=\"T_b4dc36e6_8be1_11eb_ab5b_046c592bfafbrow8_col3\" class=\"data row8 col3\" >34</td>\n",
       "            </tr>\n",
       "    </tbody></table>"
      ],
      "text/plain": [
       "<pandas.io.formats.style.Styler at 0x24e5e82a4e0>"
      ]
     },
     "metadata": {},
     "output_type": "display_data"
    },
    {
     "data": {
      "text/html": [
       "<h3>Dataset III</h3>"
      ],
      "text/plain": [
       "<IPython.core.display.HTML object>"
      ]
     },
     "metadata": {},
     "output_type": "display_data"
    },
    {
     "data": {
      "text/html": [
       "<style  type=\"text/css\" >\n",
       "    #T_b4f61d12_8be1_11eb_baf6_046c592bfafbrow6_col1 {\n",
       "            background-color:  yellow;\n",
       "        }</style><table id=\"T_b4f61d12_8be1_11eb_baf6_046c592bfafb\" ><thead>    <tr>        <th class=\"blank level0\" ></th>        <th class=\"col_heading level0 col0\" >Eicheln</th>        <th class=\"col_heading level0 col1\" >Schellen</th>        <th class=\"col_heading level0 col2\" >Schilten</th>        <th class=\"col_heading level0 col3\" >Rosen</th>    </tr>    <tr>        <th class=\"index_name level0\" >type</th>        <th class=\"blank\" ></th>        <th class=\"blank\" ></th>        <th class=\"blank\" ></th>        <th class=\"blank\" ></th>    </tr></thead><tbody>\n",
       "                <tr>\n",
       "                        <th id=\"T_b4f61d12_8be1_11eb_baf6_046c592bfafblevel0_row0\" class=\"row_heading level0 row0\" >N6</th>\n",
       "                        <td id=\"T_b4f61d12_8be1_11eb_baf6_046c592bfafbrow0_col0\" class=\"data row0 col0\" >379</td>\n",
       "                        <td id=\"T_b4f61d12_8be1_11eb_baf6_046c592bfafbrow0_col1\" class=\"data row0 col1\" >632</td>\n",
       "                        <td id=\"T_b4f61d12_8be1_11eb_baf6_046c592bfafbrow0_col2\" class=\"data row0 col2\" >358</td>\n",
       "                        <td id=\"T_b4f61d12_8be1_11eb_baf6_046c592bfafbrow0_col3\" class=\"data row0 col3\" >353</td>\n",
       "            </tr>\n",
       "            <tr>\n",
       "                        <th id=\"T_b4f61d12_8be1_11eb_baf6_046c592bfafblevel0_row1\" class=\"row_heading level0 row1\" >N7</th>\n",
       "                        <td id=\"T_b4f61d12_8be1_11eb_baf6_046c592bfafbrow1_col0\" class=\"data row1 col0\" >428</td>\n",
       "                        <td id=\"T_b4f61d12_8be1_11eb_baf6_046c592bfafbrow1_col1\" class=\"data row1 col1\" >443</td>\n",
       "                        <td id=\"T_b4f61d12_8be1_11eb_baf6_046c592bfafbrow1_col2\" class=\"data row1 col2\" >392</td>\n",
       "                        <td id=\"T_b4f61d12_8be1_11eb_baf6_046c592bfafbrow1_col3\" class=\"data row1 col3\" >375</td>\n",
       "            </tr>\n",
       "            <tr>\n",
       "                        <th id=\"T_b4f61d12_8be1_11eb_baf6_046c592bfafblevel0_row2\" class=\"row_heading level0 row2\" >N8</th>\n",
       "                        <td id=\"T_b4f61d12_8be1_11eb_baf6_046c592bfafbrow2_col0\" class=\"data row2 col0\" >363</td>\n",
       "                        <td id=\"T_b4f61d12_8be1_11eb_baf6_046c592bfafbrow2_col1\" class=\"data row2 col1\" >299</td>\n",
       "                        <td id=\"T_b4f61d12_8be1_11eb_baf6_046c592bfafbrow2_col2\" class=\"data row2 col2\" >409</td>\n",
       "                        <td id=\"T_b4f61d12_8be1_11eb_baf6_046c592bfafbrow2_col3\" class=\"data row2 col3\" >381</td>\n",
       "            </tr>\n",
       "            <tr>\n",
       "                        <th id=\"T_b4f61d12_8be1_11eb_baf6_046c592bfafblevel0_row3\" class=\"row_heading level0 row3\" >N9</th>\n",
       "                        <td id=\"T_b4f61d12_8be1_11eb_baf6_046c592bfafbrow3_col0\" class=\"data row3 col0\" >422</td>\n",
       "                        <td id=\"T_b4f61d12_8be1_11eb_baf6_046c592bfafbrow3_col1\" class=\"data row3 col1\" >366</td>\n",
       "                        <td id=\"T_b4f61d12_8be1_11eb_baf6_046c592bfafbrow3_col2\" class=\"data row3 col2\" >339</td>\n",
       "                        <td id=\"T_b4f61d12_8be1_11eb_baf6_046c592bfafbrow3_col3\" class=\"data row3 col3\" >328</td>\n",
       "            </tr>\n",
       "            <tr>\n",
       "                        <th id=\"T_b4f61d12_8be1_11eb_baf6_046c592bfafblevel0_row4\" class=\"row_heading level0 row4\" >Banner</th>\n",
       "                        <td id=\"T_b4f61d12_8be1_11eb_baf6_046c592bfafbrow4_col0\" class=\"data row4 col0\" >464</td>\n",
       "                        <td id=\"T_b4f61d12_8be1_11eb_baf6_046c592bfafbrow4_col1\" class=\"data row4 col1\" >298</td>\n",
       "                        <td id=\"T_b4f61d12_8be1_11eb_baf6_046c592bfafbrow4_col2\" class=\"data row4 col2\" >405</td>\n",
       "                        <td id=\"T_b4f61d12_8be1_11eb_baf6_046c592bfafbrow4_col3\" class=\"data row4 col3\" >374</td>\n",
       "            </tr>\n",
       "            <tr>\n",
       "                        <th id=\"T_b4f61d12_8be1_11eb_baf6_046c592bfafblevel0_row5\" class=\"row_heading level0 row5\" >Bauer</th>\n",
       "                        <td id=\"T_b4f61d12_8be1_11eb_baf6_046c592bfafbrow5_col0\" class=\"data row5 col0\" >406</td>\n",
       "                        <td id=\"T_b4f61d12_8be1_11eb_baf6_046c592bfafbrow5_col1\" class=\"data row5 col1\" >319</td>\n",
       "                        <td id=\"T_b4f61d12_8be1_11eb_baf6_046c592bfafbrow5_col2\" class=\"data row5 col2\" >428</td>\n",
       "                        <td id=\"T_b4f61d12_8be1_11eb_baf6_046c592bfafbrow5_col3\" class=\"data row5 col3\" >377</td>\n",
       "            </tr>\n",
       "            <tr>\n",
       "                        <th id=\"T_b4f61d12_8be1_11eb_baf6_046c592bfafblevel0_row6\" class=\"row_heading level0 row6\" >Ober</th>\n",
       "                        <td id=\"T_b4f61d12_8be1_11eb_baf6_046c592bfafbrow6_col0\" class=\"data row6 col0\" >379</td>\n",
       "                        <td id=\"T_b4f61d12_8be1_11eb_baf6_046c592bfafbrow6_col1\" class=\"data row6 col1\" >227</td>\n",
       "                        <td id=\"T_b4f61d12_8be1_11eb_baf6_046c592bfafbrow6_col2\" class=\"data row6 col2\" >388</td>\n",
       "                        <td id=\"T_b4f61d12_8be1_11eb_baf6_046c592bfafbrow6_col3\" class=\"data row6 col3\" >357</td>\n",
       "            </tr>\n",
       "            <tr>\n",
       "                        <th id=\"T_b4f61d12_8be1_11eb_baf6_046c592bfafblevel0_row7\" class=\"row_heading level0 row7\" >Koenig</th>\n",
       "                        <td id=\"T_b4f61d12_8be1_11eb_baf6_046c592bfafbrow7_col0\" class=\"data row7 col0\" >393</td>\n",
       "                        <td id=\"T_b4f61d12_8be1_11eb_baf6_046c592bfafbrow7_col1\" class=\"data row7 col1\" >364</td>\n",
       "                        <td id=\"T_b4f61d12_8be1_11eb_baf6_046c592bfafbrow7_col2\" class=\"data row7 col2\" >410</td>\n",
       "                        <td id=\"T_b4f61d12_8be1_11eb_baf6_046c592bfafbrow7_col3\" class=\"data row7 col3\" >369</td>\n",
       "            </tr>\n",
       "            <tr>\n",
       "                        <th id=\"T_b4f61d12_8be1_11eb_baf6_046c592bfafblevel0_row8\" class=\"row_heading level0 row8\" >Ass</th>\n",
       "                        <td id=\"T_b4f61d12_8be1_11eb_baf6_046c592bfafbrow8_col0\" class=\"data row8 col0\" >405</td>\n",
       "                        <td id=\"T_b4f61d12_8be1_11eb_baf6_046c592bfafbrow8_col1\" class=\"data row8 col1\" >357</td>\n",
       "                        <td id=\"T_b4f61d12_8be1_11eb_baf6_046c592bfafbrow8_col2\" class=\"data row8 col2\" >561</td>\n",
       "                        <td id=\"T_b4f61d12_8be1_11eb_baf6_046c592bfafbrow8_col3\" class=\"data row8 col3\" >356</td>\n",
       "            </tr>\n",
       "    </tbody></table>"
      ],
      "text/plain": [
       "<pandas.io.formats.style.Styler at 0x24e5e207e48>"
      ]
     },
     "metadata": {},
     "output_type": "display_data"
    },
    {
     "data": {
      "image/png": "[encoded data removed]",
      "text/plain": [
       "<Figure size 720x360 with 1 Axes>"
      ]
     },
     "metadata": {
      "needs_background": "light"
     },
     "output_type": "display_data"
    },
    {
     "data": {
      "image/png": "[encoded data removed]",
      "text/plain": [
       "<Figure size 720x360 with 1 Axes>"
      ]
     },
     "metadata": {
      "needs_background": "light"
     },
     "output_type": "display_data"
    },
    {
     "data": {
      "image/png": "[encoded data removed]",
      "text/plain": [
       "<Figure size 720x360 with 1 Axes>"
      ]
     },
     "metadata": {
      "needs_background": "light"
     },
     "output_type": "display_data"
    }
   ],
   "source": [
    "# define multiple scan input paths\n",
    "pathList= [r\".\\images\\02_data_preparation\\train_datascan_i\",r\".\\images\\02_data_preparation\\train_datascan_ii\",r\".\\images\\02_data_preparation\\train_datascan_iii\"]\n",
    "# iterate trough pathList\n",
    "for path in pathList:\n",
    "    setName=path.split(\"_\")[-1]\n",
    "    display(HTML(f'<h3>Dataset {setName.upper()}</h3>'))\n",
    "\n",
    "\n",
    "    fileList = [os.path.join(dp, f) for dp, dn, filenames in os.walk(path) for f in filenames if os.path.splitext(f)[1] == '.jpg']\n",
    "\n",
    "    cardHistCount=np.zeros([1, len(js.JassCN2)],int).flatten()                          # define an emppty array with the length of the different card classes\n",
    "    for item in fileList:                                                               # loop trough\n",
    "        fName=item.split(\"\\\\\")[-1]                                                      # get file name\n",
    "        cardId=js.JassCN2[fName[0:2]].value                                             # parse cardId\n",
    "        cardHistCount[cardId]=cardHistCount[cardId]+1                                   # increment cardId counter\n",
    "\n",
    "    histogram=pd.DataFrame(cardHistCount,columns=[\"count\"])                             # put data in pandas Dataframe for easy drawing\n",
    "    histogram[\"cardId\"]=js.JassCN2._member_names_                                       # add column with all card types\n",
    "    histogram[\"a\"]=histogram[\"cardId\"].str.slice(start=1,stop=2)                        # create column a to store card names\n",
    "    histogram[\"b\"]=histogram[\"cardId\"].str.slice(stop=1)                                # create column b to store card type\n",
    "\n",
    "    t=pd.pivot_table(histogram,values=\"count\",index=[\"a\"],columns=[\"b\"])                # create pivot representation\n",
    "    t.columns=js.Jassmode._member_names_[0:4]                                           # include the types into columns\n",
    "    t[\"type\"]=js.JassCN._member_names_                                                  # include the card names into index\n",
    "    t=t.set_index(\"type\")                                                               # activate index\n",
    "    t=t.style.apply(js.highlight_min, color='yellow', axis=None)                        # highlight lowest value\n",
    "    display(t)\n",
    "\n",
    "    histogram.plot.bar(x=\"cardId\",y=\"count\",grid=True,figsize=(10,5),title=path.split(\"\\\\\")[-1]+\" class distribution\",zorder=10)\n"
   ]
  },
  {
   "cell_type": "code",
   "execution_count": null,
   "metadata": {},
   "outputs": [],
   "source": []
  }
 ],
 "metadata": {
  "kernelspec": {
   "display_name": "Python 3",
   "language": "python",
   "name": "python3"
  },
  "language_info": {
   "codemirror_mode": {
    "name": "ipython",
    "version": 3
   },
   "file_extension": ".py",
   "mimetype": "text/x-python",
   "name": "python",
   "nbconvert_exporter": "python",
   "pygments_lexer": "ipython3",
   "version": "3.6.12"
  }
 },
 "nbformat": 4,
 "nbformat_minor": 4
}
